{
 "cells": [
  {
   "cell_type": "code",
   "execution_count": 1,
   "id": "74be74c9",
   "metadata": {},
   "outputs": [],
   "source": [
    "import pandas as pd\n",
    "import numpy as np\n",
    "import matplotlib.pyplot as plt\n",
    "import seaborn as sns\n",
    "from sklearn.linear_model import LinearRegression, LassoLarsCV, LassoCV, RidgeCV, ElasticNetCV\n",
    "from catboost import CatBoostRegressor\n",
    "from xgboost import XGBRegressor\n",
    "from lightgbm import LGBMRegressor\n",
    "import pickle\n",
    "from sklearn.metrics import mean_squared_error, r2_score"
   ]
  },
  {
   "cell_type": "code",
   "execution_count": 2,
   "id": "636e23d1",
   "metadata": {},
   "outputs": [],
   "source": [
    "df= pd.read_csv(\"car data.csv\")"
   ]
  },
  {
   "cell_type": "code",
   "execution_count": 3,
   "id": "685b9f4f",
   "metadata": {
    "scrolled": false
   },
   "outputs": [
    {
     "data": {
      "text/html": [
       "<div>\n",
       "<style scoped>\n",
       "    .dataframe tbody tr th:only-of-type {\n",
       "        vertical-align: middle;\n",
       "    }\n",
       "\n",
       "    .dataframe tbody tr th {\n",
       "        vertical-align: top;\n",
       "    }\n",
       "\n",
       "    .dataframe thead th {\n",
       "        text-align: right;\n",
       "    }\n",
       "</style>\n",
       "<table border=\"1\" class=\"dataframe\">\n",
       "  <thead>\n",
       "    <tr style=\"text-align: right;\">\n",
       "      <th></th>\n",
       "      <th>Car_Name</th>\n",
       "      <th>Year</th>\n",
       "      <th>Selling_Price</th>\n",
       "      <th>Present_Price</th>\n",
       "      <th>Kms_Driven</th>\n",
       "      <th>Fuel_Type</th>\n",
       "      <th>Seller_Type</th>\n",
       "      <th>Transmission</th>\n",
       "      <th>Owner</th>\n",
       "    </tr>\n",
       "  </thead>\n",
       "  <tbody>\n",
       "    <tr>\n",
       "      <th>0</th>\n",
       "      <td>ritz</td>\n",
       "      <td>2014</td>\n",
       "      <td>3.35</td>\n",
       "      <td>5.59</td>\n",
       "      <td>27000</td>\n",
       "      <td>Petrol</td>\n",
       "      <td>Dealer</td>\n",
       "      <td>Manual</td>\n",
       "      <td>0</td>\n",
       "    </tr>\n",
       "    <tr>\n",
       "      <th>1</th>\n",
       "      <td>sx4</td>\n",
       "      <td>2013</td>\n",
       "      <td>4.75</td>\n",
       "      <td>9.54</td>\n",
       "      <td>43000</td>\n",
       "      <td>Diesel</td>\n",
       "      <td>Dealer</td>\n",
       "      <td>Manual</td>\n",
       "      <td>0</td>\n",
       "    </tr>\n",
       "    <tr>\n",
       "      <th>2</th>\n",
       "      <td>ciaz</td>\n",
       "      <td>2017</td>\n",
       "      <td>7.25</td>\n",
       "      <td>9.85</td>\n",
       "      <td>6900</td>\n",
       "      <td>Petrol</td>\n",
       "      <td>Dealer</td>\n",
       "      <td>Manual</td>\n",
       "      <td>0</td>\n",
       "    </tr>\n",
       "    <tr>\n",
       "      <th>3</th>\n",
       "      <td>wagon r</td>\n",
       "      <td>2011</td>\n",
       "      <td>2.85</td>\n",
       "      <td>4.15</td>\n",
       "      <td>5200</td>\n",
       "      <td>Petrol</td>\n",
       "      <td>Dealer</td>\n",
       "      <td>Manual</td>\n",
       "      <td>0</td>\n",
       "    </tr>\n",
       "    <tr>\n",
       "      <th>4</th>\n",
       "      <td>swift</td>\n",
       "      <td>2014</td>\n",
       "      <td>4.60</td>\n",
       "      <td>6.87</td>\n",
       "      <td>42450</td>\n",
       "      <td>Diesel</td>\n",
       "      <td>Dealer</td>\n",
       "      <td>Manual</td>\n",
       "      <td>0</td>\n",
       "    </tr>\n",
       "  </tbody>\n",
       "</table>\n",
       "</div>"
      ],
      "text/plain": [
       "  Car_Name  Year  Selling_Price  Present_Price  Kms_Driven Fuel_Type  \\\n",
       "0     ritz  2014           3.35           5.59       27000    Petrol   \n",
       "1      sx4  2013           4.75           9.54       43000    Diesel   \n",
       "2     ciaz  2017           7.25           9.85        6900    Petrol   \n",
       "3  wagon r  2011           2.85           4.15        5200    Petrol   \n",
       "4    swift  2014           4.60           6.87       42450    Diesel   \n",
       "\n",
       "  Seller_Type Transmission  Owner  \n",
       "0      Dealer       Manual      0  \n",
       "1      Dealer       Manual      0  \n",
       "2      Dealer       Manual      0  \n",
       "3      Dealer       Manual      0  \n",
       "4      Dealer       Manual      0  "
      ]
     },
     "execution_count": 3,
     "metadata": {},
     "output_type": "execute_result"
    }
   ],
   "source": [
    "df.head()"
   ]
  },
  {
   "cell_type": "code",
   "execution_count": 4,
   "id": "726f9a7b",
   "metadata": {},
   "outputs": [],
   "source": [
    "df.Selling_Price= np.log1p(df.Selling_Price)\n",
    "df.Present_Price= np.log1p(df.Present_Price)\n",
    "df.Kms_Driven= np.log1p(df.Kms_Driven)"
   ]
  },
  {
   "cell_type": "code",
   "execution_count": 5,
   "id": "30827fca",
   "metadata": {},
   "outputs": [
    {
     "data": {
      "text/plain": [
       "<AxesSubplot:>"
      ]
     },
     "execution_count": 5,
     "metadata": {},
     "output_type": "execute_result"
    },
    {
     "data": {
      "image/png": "[encoded data removed]",
      "text/plain": [
       "<Figure size 720x720 with 2 Axes>"
      ]
     },
     "metadata": {
      "needs_background": "light"
     },
     "output_type": "display_data"
    }
   ],
   "source": [
    "plt.figure(figsize=(10,10))\n",
    "sns.heatmap(df.corr('spearman'), annot=True)"
   ]
  },
  {
   "cell_type": "code",
   "execution_count": 6,
   "id": "c9f144e6",
   "metadata": {},
   "outputs": [],
   "source": [
    "#df['kms_driven_by_car_name_and_year']= df.groupby(['Year', 'Car_Name'])['Kms_Driven'].transform('mean')\n",
    "#df['present_price_by_car_name_and_year']= df.groupby(['Year', 'Car_Name'])['Present_Price'].transform('mean')\n",
    "#df['present_price_by_transmission_car_name']= df.groupby(['Transmission', 'Car_Name'])['Present_Price'].transform('mean')\n",
    "#df['present_price_by_fuel_type_car_name']= df.groupby(['Fuel_Type', 'Car_Name'])['Present_Price'].transform('mean')\n",
    "#df['present_price_by_seller_type_car_name']= df.groupby(['Seller_Type', 'Car_Name'])['Present_Price'].transform('mean')"
   ]
  },
  {
   "cell_type": "code",
   "execution_count": 7,
   "id": "f252dba4",
   "metadata": {},
   "outputs": [
    {
     "data": {
      "text/plain": [
       "array(['Dealer', 'Individual'], dtype=object)"
      ]
     },
     "execution_count": 7,
     "metadata": {},
     "output_type": "execute_result"
    }
   ],
   "source": [
    "df.Seller_Type.unique()"
   ]
  },
  {
   "cell_type": "code",
   "execution_count": 8,
   "id": "79bec0e6",
   "metadata": {},
   "outputs": [
    {
     "data": {
      "text/plain": [
       "array([2003, 2004, 2005, 2006, 2007, 2008, 2009, 2010, 2011, 2012, 2013,\n",
       "       2014, 2015, 2016, 2017, 2018], dtype=int64)"
      ]
     },
     "execution_count": 8,
     "metadata": {},
     "output_type": "execute_result"
    }
   ],
   "source": [
    "np.sort(df.Year.unique())"
   ]
  },
  {
   "cell_type": "code",
   "execution_count": 9,
   "id": "ae63377d",
   "metadata": {},
   "outputs": [],
   "source": [
    "df.Transmission= df.Transmission.map({'Manual': 0, 'Automatic': 1})\n",
    "df.Seller_Type= df.Seller_Type.map({'Dealer':0, 'Individual': 1})\n",
    "df.Fuel_Type= df.Fuel_Type.map({'CNG':0, 'Diesel':1, 'Petrol':2})"
   ]
  },
  {
   "cell_type": "code",
   "execution_count": 10,
   "id": "6f716a5a",
   "metadata": {},
   "outputs": [
    {
     "data": {
      "text/html": [
       "<div>\n",
       "<style scoped>\n",
       "    .dataframe tbody tr th:only-of-type {\n",
       "        vertical-align: middle;\n",
       "    }\n",
       "\n",
       "    .dataframe tbody tr th {\n",
       "        vertical-align: top;\n",
       "    }\n",
       "\n",
       "    .dataframe thead th {\n",
       "        text-align: right;\n",
       "    }\n",
       "</style>\n",
       "<table border=\"1\" class=\"dataframe\">\n",
       "  <thead>\n",
       "    <tr style=\"text-align: right;\">\n",
       "      <th></th>\n",
       "      <th>Car_Name</th>\n",
       "      <th>Year</th>\n",
       "      <th>Selling_Price</th>\n",
       "      <th>Present_Price</th>\n",
       "      <th>Kms_Driven</th>\n",
       "      <th>Fuel_Type</th>\n",
       "      <th>Seller_Type</th>\n",
       "      <th>Transmission</th>\n",
       "      <th>Owner</th>\n",
       "    </tr>\n",
       "  </thead>\n",
       "  <tbody>\n",
       "    <tr>\n",
       "      <th>0</th>\n",
       "      <td>ritz</td>\n",
       "      <td>2014</td>\n",
       "      <td>1.470176</td>\n",
       "      <td>1.885553</td>\n",
       "      <td>10.203629</td>\n",
       "      <td>2</td>\n",
       "      <td>0</td>\n",
       "      <td>0</td>\n",
       "      <td>0</td>\n",
       "    </tr>\n",
       "    <tr>\n",
       "      <th>1</th>\n",
       "      <td>sx4</td>\n",
       "      <td>2013</td>\n",
       "      <td>1.749200</td>\n",
       "      <td>2.355178</td>\n",
       "      <td>10.668979</td>\n",
       "      <td>1</td>\n",
       "      <td>0</td>\n",
       "      <td>0</td>\n",
       "      <td>0</td>\n",
       "    </tr>\n",
       "    <tr>\n",
       "      <th>2</th>\n",
       "      <td>ciaz</td>\n",
       "      <td>2017</td>\n",
       "      <td>2.110213</td>\n",
       "      <td>2.384165</td>\n",
       "      <td>8.839422</td>\n",
       "      <td>2</td>\n",
       "      <td>0</td>\n",
       "      <td>0</td>\n",
       "      <td>0</td>\n",
       "    </tr>\n",
       "    <tr>\n",
       "      <th>3</th>\n",
       "      <td>wagon r</td>\n",
       "      <td>2011</td>\n",
       "      <td>1.348073</td>\n",
       "      <td>1.638997</td>\n",
       "      <td>8.556606</td>\n",
       "      <td>2</td>\n",
       "      <td>0</td>\n",
       "      <td>0</td>\n",
       "      <td>0</td>\n",
       "    </tr>\n",
       "    <tr>\n",
       "      <th>4</th>\n",
       "      <td>swift</td>\n",
       "      <td>2014</td>\n",
       "      <td>1.722767</td>\n",
       "      <td>2.063058</td>\n",
       "      <td>10.656106</td>\n",
       "      <td>1</td>\n",
       "      <td>0</td>\n",
       "      <td>0</td>\n",
       "      <td>0</td>\n",
       "    </tr>\n",
       "    <tr>\n",
       "      <th>...</th>\n",
       "      <td>...</td>\n",
       "      <td>...</td>\n",
       "      <td>...</td>\n",
       "      <td>...</td>\n",
       "      <td>...</td>\n",
       "      <td>...</td>\n",
       "      <td>...</td>\n",
       "      <td>...</td>\n",
       "      <td>...</td>\n",
       "    </tr>\n",
       "    <tr>\n",
       "      <th>296</th>\n",
       "      <td>city</td>\n",
       "      <td>2016</td>\n",
       "      <td>2.351375</td>\n",
       "      <td>2.533697</td>\n",
       "      <td>10.433792</td>\n",
       "      <td>1</td>\n",
       "      <td>0</td>\n",
       "      <td>0</td>\n",
       "      <td>0</td>\n",
       "    </tr>\n",
       "    <tr>\n",
       "      <th>297</th>\n",
       "      <td>brio</td>\n",
       "      <td>2015</td>\n",
       "      <td>1.609438</td>\n",
       "      <td>1.931521</td>\n",
       "      <td>11.002117</td>\n",
       "      <td>2</td>\n",
       "      <td>0</td>\n",
       "      <td>0</td>\n",
       "      <td>0</td>\n",
       "    </tr>\n",
       "    <tr>\n",
       "      <th>298</th>\n",
       "      <td>city</td>\n",
       "      <td>2009</td>\n",
       "      <td>1.470176</td>\n",
       "      <td>2.484907</td>\n",
       "      <td>11.384353</td>\n",
       "      <td>2</td>\n",
       "      <td>0</td>\n",
       "      <td>0</td>\n",
       "      <td>0</td>\n",
       "    </tr>\n",
       "    <tr>\n",
       "      <th>299</th>\n",
       "      <td>city</td>\n",
       "      <td>2017</td>\n",
       "      <td>2.525729</td>\n",
       "      <td>2.602690</td>\n",
       "      <td>9.105091</td>\n",
       "      <td>1</td>\n",
       "      <td>0</td>\n",
       "      <td>0</td>\n",
       "      <td>0</td>\n",
       "    </tr>\n",
       "    <tr>\n",
       "      <th>300</th>\n",
       "      <td>brio</td>\n",
       "      <td>2016</td>\n",
       "      <td>1.840550</td>\n",
       "      <td>1.931521</td>\n",
       "      <td>8.606119</td>\n",
       "      <td>2</td>\n",
       "      <td>0</td>\n",
       "      <td>0</td>\n",
       "      <td>0</td>\n",
       "    </tr>\n",
       "  </tbody>\n",
       "</table>\n",
       "<p>301 rows × 9 columns</p>\n",
       "</div>"
      ],
      "text/plain": [
       "    Car_Name  Year  Selling_Price  Present_Price  Kms_Driven  Fuel_Type  \\\n",
       "0       ritz  2014       1.470176       1.885553   10.203629          2   \n",
       "1        sx4  2013       1.749200       2.355178   10.668979          1   \n",
       "2       ciaz  2017       2.110213       2.384165    8.839422          2   \n",
       "3    wagon r  2011       1.348073       1.638997    8.556606          2   \n",
       "4      swift  2014       1.722767       2.063058   10.656106          1   \n",
       "..       ...   ...            ...            ...         ...        ...   \n",
       "296     city  2016       2.351375       2.533697   10.433792          1   \n",
       "297     brio  2015       1.609438       1.931521   11.002117          2   \n",
       "298     city  2009       1.470176       2.484907   11.384353          2   \n",
       "299     city  2017       2.525729       2.602690    9.105091          1   \n",
       "300     brio  2016       1.840550       1.931521    8.606119          2   \n",
       "\n",
       "     Seller_Type  Transmission  Owner  \n",
       "0              0             0      0  \n",
       "1              0             0      0  \n",
       "2              0             0      0  \n",
       "3              0             0      0  \n",
       "4              0             0      0  \n",
       "..           ...           ...    ...  \n",
       "296            0             0      0  \n",
       "297            0             0      0  \n",
       "298            0             0      0  \n",
       "299            0             0      0  \n",
       "300            0             0      0  \n",
       "\n",
       "[301 rows x 9 columns]"
      ]
     },
     "execution_count": 10,
     "metadata": {},
     "output_type": "execute_result"
    }
   ],
   "source": [
    "df"
   ]
  },
  {
   "cell_type": "code",
   "execution_count": 11,
   "id": "ffba88f8",
   "metadata": {},
   "outputs": [
    {
     "data": {
      "text/plain": [
       "array([0, 1, 3], dtype=int64)"
      ]
     },
     "execution_count": 11,
     "metadata": {},
     "output_type": "execute_result"
    }
   ],
   "source": [
    "df.Owner.unique()"
   ]
  },
  {
   "cell_type": "code",
   "execution_count": 12,
   "id": "6f1d7684",
   "metadata": {},
   "outputs": [],
   "source": [
    "trans= pd.get_dummies(df.Transmission, drop_first=True, prefix='transmission_')\n",
    "df= df.drop('Transmission', axis=1)\n",
    "df= pd.concat([df, trans], axis=1)\n",
    "\n",
    "seller= pd.get_dummies(df.Seller_Type, drop_first=True, prefix='seller_type_')\n",
    "df= df.drop('Seller_Type', axis=1)\n",
    "df= pd.concat([df, seller], axis=1)\n",
    "\n",
    "fuel= pd.get_dummies(df.Fuel_Type, prefix='fuel_type_', drop_first=True)\n",
    "df= df.drop('Fuel_Type', axis=1)\n",
    "df= pd.concat([df, fuel], axis=1)"
   ]
  },
  {
   "cell_type": "code",
   "execution_count": 15,
   "id": "513e5afa",
   "metadata": {},
   "outputs": [],
   "source": [
    "from sklearn.preprocessing import LabelEncoder\n",
    "le= LabelEncoder()\n",
    "le.fit(df.Car_Name)\n",
    "df.Car_Name= le.transform(df.Car_Name)"
   ]
  },
  {
   "cell_type": "code",
   "execution_count": 16,
   "id": "4da5b3ba",
   "metadata": {},
   "outputs": [
    {
     "data": {
      "text/plain": [
       "['Car_Name',\n",
       " 'Year',\n",
       " 'Selling_Price',\n",
       " 'Present_Price',\n",
       " 'Kms_Driven',\n",
       " 'Owner',\n",
       " 'transmission__1',\n",
       " 'seller_type__1',\n",
       " 'fuel_type__1',\n",
       " 'fuel_type__2']"
      ]
     },
     "execution_count": 16,
     "metadata": {},
     "output_type": "execute_result"
    }
   ],
   "source": [
    "[var for var in df.columns if df[var].dtypes != 'O']"
   ]
  },
  {
   "cell_type": "code",
   "execution_count": 17,
   "id": "0f4c53ed",
   "metadata": {},
   "outputs": [],
   "source": [
    "cont_cols= ['Car_Name',\n",
    " 'Year',\n",
    " 'Selling_Price',\n",
    " 'Present_Price',\n",
    " 'Kms_Driven',\n",
    " 'Owner',\n",
    " 'transmission__1',\n",
    " 'seller_type__1',\n",
    " 'fuel_type__1',\n",
    " 'fuel_type__2']"
   ]
  },
  {
   "cell_type": "code",
   "execution_count": 35,
   "id": "90a32240",
   "metadata": {},
   "outputs": [],
   "source": []
  },
  {
   "cell_type": "code",
   "execution_count": 17,
   "id": "b16ee8db",
   "metadata": {},
   "outputs": [],
   "source": []
  },
  {
   "cell_type": "code",
   "execution_count": null,
   "id": "8ea11b55",
   "metadata": {},
   "outputs": [],
   "source": []
  },
  {
   "cell_type": "code",
   "execution_count": 18,
   "id": "bbf636da",
   "metadata": {},
   "outputs": [
    {
     "data": {
      "text/html": [
       "<div>\n",
       "<style scoped>\n",
       "    .dataframe tbody tr th:only-of-type {\n",
       "        vertical-align: middle;\n",
       "    }\n",
       "\n",
       "    .dataframe tbody tr th {\n",
       "        vertical-align: top;\n",
       "    }\n",
       "\n",
       "    .dataframe thead th {\n",
       "        text-align: right;\n",
       "    }\n",
       "</style>\n",
       "<table border=\"1\" class=\"dataframe\">\n",
       "  <thead>\n",
       "    <tr style=\"text-align: right;\">\n",
       "      <th></th>\n",
       "      <th>Car_Name</th>\n",
       "      <th>Year</th>\n",
       "      <th>Selling_Price</th>\n",
       "      <th>Present_Price</th>\n",
       "      <th>Kms_Driven</th>\n",
       "      <th>Owner</th>\n",
       "      <th>transmission__1</th>\n",
       "      <th>seller_type__1</th>\n",
       "      <th>fuel_type__1</th>\n",
       "      <th>fuel_type__2</th>\n",
       "    </tr>\n",
       "  </thead>\n",
       "  <tbody>\n",
       "    <tr>\n",
       "      <th>0</th>\n",
       "      <td>90</td>\n",
       "      <td>2014</td>\n",
       "      <td>1.470176</td>\n",
       "      <td>1.885553</td>\n",
       "      <td>10.203629</td>\n",
       "      <td>0</td>\n",
       "      <td>0</td>\n",
       "      <td>0</td>\n",
       "      <td>0</td>\n",
       "      <td>1</td>\n",
       "    </tr>\n",
       "    <tr>\n",
       "      <th>1</th>\n",
       "      <td>93</td>\n",
       "      <td>2013</td>\n",
       "      <td>1.749200</td>\n",
       "      <td>2.355178</td>\n",
       "      <td>10.668979</td>\n",
       "      <td>0</td>\n",
       "      <td>0</td>\n",
       "      <td>0</td>\n",
       "      <td>1</td>\n",
       "      <td>0</td>\n",
       "    </tr>\n",
       "    <tr>\n",
       "      <th>2</th>\n",
       "      <td>68</td>\n",
       "      <td>2017</td>\n",
       "      <td>2.110213</td>\n",
       "      <td>2.384165</td>\n",
       "      <td>8.839422</td>\n",
       "      <td>0</td>\n",
       "      <td>0</td>\n",
       "      <td>0</td>\n",
       "      <td>0</td>\n",
       "      <td>1</td>\n",
       "    </tr>\n",
       "    <tr>\n",
       "      <th>3</th>\n",
       "      <td>96</td>\n",
       "      <td>2011</td>\n",
       "      <td>1.348073</td>\n",
       "      <td>1.638997</td>\n",
       "      <td>8.556606</td>\n",
       "      <td>0</td>\n",
       "      <td>0</td>\n",
       "      <td>0</td>\n",
       "      <td>0</td>\n",
       "      <td>1</td>\n",
       "    </tr>\n",
       "    <tr>\n",
       "      <th>4</th>\n",
       "      <td>92</td>\n",
       "      <td>2014</td>\n",
       "      <td>1.722767</td>\n",
       "      <td>2.063058</td>\n",
       "      <td>10.656106</td>\n",
       "      <td>0</td>\n",
       "      <td>0</td>\n",
       "      <td>0</td>\n",
       "      <td>1</td>\n",
       "      <td>0</td>\n",
       "    </tr>\n",
       "  </tbody>\n",
       "</table>\n",
       "</div>"
      ],
      "text/plain": [
       "   Car_Name  Year  Selling_Price  Present_Price  Kms_Driven  Owner  \\\n",
       "0        90  2014       1.470176       1.885553   10.203629      0   \n",
       "1        93  2013       1.749200       2.355178   10.668979      0   \n",
       "2        68  2017       2.110213       2.384165    8.839422      0   \n",
       "3        96  2011       1.348073       1.638997    8.556606      0   \n",
       "4        92  2014       1.722767       2.063058   10.656106      0   \n",
       "\n",
       "   transmission__1  seller_type__1  fuel_type__1  fuel_type__2  \n",
       "0                0               0             0             1  \n",
       "1                0               0             1             0  \n",
       "2                0               0             0             1  \n",
       "3                0               0             0             1  \n",
       "4                0               0             1             0  "
      ]
     },
     "execution_count": 18,
     "metadata": {},
     "output_type": "execute_result"
    }
   ],
   "source": [
    "df.head()"
   ]
  },
  {
   "cell_type": "code",
   "execution_count": 18,
   "id": "47e7b015",
   "metadata": {},
   "outputs": [],
   "source": [
    "X= df.drop(['Selling_Price'], axis= 1)\n",
    "y= df.Selling_Price"
   ]
  },
  {
   "cell_type": "code",
   "execution_count": 19,
   "id": "80587e00",
   "metadata": {},
   "outputs": [
    {
     "data": {
      "text/plain": [
       "Index(['Car_Name', 'Year', 'Present_Price', 'Kms_Driven', 'Owner',\n",
       "       'transmission__1', 'seller_type__1', 'fuel_type__1', 'fuel_type__2'],\n",
       "      dtype='object')"
      ]
     },
     "execution_count": 19,
     "metadata": {},
     "output_type": "execute_result"
    }
   ],
   "source": [
    "X.columns"
   ]
  },
  {
   "cell_type": "code",
   "execution_count": 20,
   "id": "ac1782ab",
   "metadata": {},
   "outputs": [],
   "source": [
    "from sklearn.model_selection import train_test_split"
   ]
  },
  {
   "cell_type": "code",
   "execution_count": 21,
   "id": "a019328e",
   "metadata": {},
   "outputs": [],
   "source": [
    "X_train, X_test, y_train, y_test= train_test_split(X, y, test_size=0.25)"
   ]
  },
  {
   "cell_type": "code",
   "execution_count": 22,
   "id": "f5c45b51",
   "metadata": {},
   "outputs": [],
   "source": [
    "lgbm_param= {'reg_lambda': 0.006309933672677112,\n",
    " 'reg_alpha': 0.004456261093258554,\n",
    " 'colsample_bytree': 1.0,\n",
    " 'subsample': 0.6,\n",
    " 'learning_rate': 0.037469690303947215,\n",
    " 'max_depth': 11,\n",
    " 'min_child_samples': 7,\n",
    " 'num_leaves': 88}\n",
    "\n",
    "cat_param= {'learning_rate': 0.013011526076571736,\n",
    " 'colsample_bylevel': 0.09698049810314614,\n",
    " 'depth': 1,\n",
    " 'boosting_type': 'Plain',\n",
    " 'bootstrap_type': 'MVS'}"
   ]
  },
  {
   "cell_type": "code",
   "execution_count": 23,
   "id": "e193c627",
   "metadata": {},
   "outputs": [],
   "source": [
    "from sklearn.model_selection import KFold"
   ]
  },
  {
   "cell_type": "code",
   "execution_count": 24,
   "id": "c5331b20",
   "metadata": {},
   "outputs": [
    {
     "name": "stdout",
     "output_type": "stream",
     "text": [
      "=============== Fold No: 1 ===============\n",
      "Learning rate set to 0.003643\n",
      "0:\tlearn: 0.8244296\ttest: 0.7220780\tbest: 0.7220780 (0)\ttotal: 314ms\tremaining: 4h 21m 15s\n",
      "2500:\tlearn: 0.0760394\ttest: 0.1089706\tbest: 0.1089645 (2498)\ttotal: 3.44s\tremaining: 1m 5s\n",
      "Stopped by overfitting detector  (100 iterations wait)\n",
      "\n",
      "bestTest = 0.1057257193\n",
      "bestIteration = 3663\n",
      "\n",
      "Shrink model to first 3664 iterations.\n",
      "0.10572571374236275\n",
      "=============== Fold No: 2 ===============\n",
      "Learning rate set to 0.003643\n",
      "0:\tlearn: 0.8233695\ttest: 0.7333028\tbest: 0.7333028 (0)\ttotal: 4.11ms\tremaining: 3m 25s\n",
      "2500:\tlearn: 0.0739949\ttest: 0.1946003\tbest: 0.1946003 (2500)\ttotal: 3.15s\tremaining: 59.8s\n",
      "5000:\tlearn: 0.0441738\ttest: 0.1854598\tbest: 0.1854598 (5000)\ttotal: 6.15s\tremaining: 55.3s\n",
      "Stopped by overfitting detector  (100 iterations wait)\n",
      "\n",
      "bestTest = 0.1827591567\n",
      "bestIteration = 6773\n",
      "\n",
      "Shrink model to first 6774 iterations.\n",
      "0.18275915886175317\n",
      "=============== Fold No: 3 ===============\n",
      "Learning rate set to 0.003643\n",
      "0:\tlearn: 0.8240434\ttest: 0.7207991\tbest: 0.7207991 (0)\ttotal: 4.12ms\tremaining: 3m 26s\n",
      "2500:\tlearn: 0.0774366\ttest: 0.0927272\tbest: 0.0927272 (2500)\ttotal: 2.95s\tremaining: 56.1s\n",
      "Stopped by overfitting detector  (100 iterations wait)\n",
      "\n",
      "bestTest = 0.08445094361\n",
      "bestIteration = 4842\n",
      "\n",
      "Shrink model to first 4843 iterations.\n",
      "0.0844509594002169\n",
      "=============== Fold No: 4 ===============\n",
      "Learning rate set to 0.003643\n",
      "0:\tlearn: 0.8126838\ttest: 0.8269867\tbest: 0.8269867 (0)\ttotal: 4.46ms\tremaining: 3m 42s\n",
      "2500:\tlearn: 0.0743712\ttest: 0.1555183\tbest: 0.1555183 (2500)\ttotal: 2.91s\tremaining: 55.3s\n",
      "5000:\tlearn: 0.0427305\ttest: 0.1451660\tbest: 0.1451502 (4945)\ttotal: 5.88s\tremaining: 52.9s\n",
      "Stopped by overfitting detector  (100 iterations wait)\n",
      "\n",
      "bestTest = 0.1448213988\n",
      "bestIteration = 5794\n",
      "\n",
      "Shrink model to first 5795 iterations.\n",
      "0.14482139751412465\n",
      "=============== Fold No: 5 ===============\n",
      "Learning rate set to 0.003643\n",
      "0:\tlearn: 0.8105973\ttest: 0.8456619\tbest: 0.8456619 (0)\ttotal: 3.82ms\tremaining: 3m 11s\n",
      "2500:\tlearn: 0.0772883\ttest: 0.1712234\tbest: 0.1712232 (2499)\ttotal: 2.98s\tremaining: 56.6s\n",
      "5000:\tlearn: 0.0459435\ttest: 0.1638919\tbest: 0.1638905 (4999)\ttotal: 6.08s\tremaining: 54.7s\n",
      "Stopped by overfitting detector  (100 iterations wait)\n",
      "\n",
      "bestTest = 0.1632329995\n",
      "bestIteration = 5618\n",
      "\n",
      "Shrink model to first 5619 iterations.\n",
      "0.16323301273010452\n",
      "=============== Fold No: 6 ===============\n",
      "Learning rate set to 0.003646\n",
      "0:\tlearn: 0.8139832\ttest: 0.8168708\tbest: 0.8168708 (0)\ttotal: 4.6ms\tremaining: 3m 49s\n",
      "2500:\tlearn: 0.0782580\ttest: 0.0702154\tbest: 0.0702139 (2499)\ttotal: 2.99s\tremaining: 56.7s\n",
      "Stopped by overfitting detector  (100 iterations wait)\n",
      "\n",
      "bestTest = 0.0676145355\n",
      "bestIteration = 3446\n",
      "\n",
      "Shrink model to first 3447 iterations.\n",
      "0.06761453680515683\n",
      "=============== Fold No: 7 ===============\n",
      "Learning rate set to 0.003646\n",
      "0:\tlearn: 0.7942405\ttest: 0.9789560\tbest: 0.9789560 (0)\ttotal: 4.67ms\tremaining: 3m 53s\n",
      "2500:\tlearn: 0.0618006\ttest: 0.2794505\tbest: 0.2794188 (2490)\ttotal: 3.08s\tremaining: 58.4s\n",
      "Stopped by overfitting detector  (100 iterations wait)\n",
      "\n",
      "bestTest = 0.2789910862\n",
      "bestIteration = 2825\n",
      "\n",
      "Shrink model to first 2826 iterations.\n",
      "0.27899107806070184\n",
      "=============== Fold No: 8 ===============\n",
      "Learning rate set to 0.003646\n",
      "0:\tlearn: 0.8034107\ttest: 0.9083042\tbest: 0.9083042 (0)\ttotal: 1.57ms\tremaining: 1m 18s\n",
      "2500:\tlearn: 0.0753575\ttest: 0.1143913\tbest: 0.1143907 (2497)\ttotal: 3.02s\tremaining: 57.4s\n",
      "5000:\tlearn: 0.0430612\ttest: 0.1036138\tbest: 0.1036138 (5000)\ttotal: 6.09s\tremaining: 54.8s\n",
      "Stopped by overfitting detector  (100 iterations wait)\n",
      "\n",
      "bestTest = 0.1030880277\n",
      "bestIteration = 5475\n",
      "\n",
      "Shrink model to first 5476 iterations.\n",
      "0.10308801624185601\n",
      "=============== Fold No: 9 ===============\n",
      "Learning rate set to 0.003646\n",
      "0:\tlearn: 0.8084715\ttest: 0.8657370\tbest: 0.8657370 (0)\ttotal: 2.82ms\tremaining: 2m 21s\n",
      "2500:\tlearn: 0.0756433\ttest: 0.1418212\tbest: 0.1418212 (2500)\ttotal: 3.06s\tremaining: 58.2s\n",
      "5000:\tlearn: 0.0457369\ttest: 0.1286183\tbest: 0.1286173 (4999)\ttotal: 6.14s\tremaining: 55.3s\n",
      "7500:\tlearn: 0.0321597\ttest: 0.1252228\tbest: 0.1252226 (7492)\ttotal: 9.23s\tremaining: 52.3s\n",
      "10000:\tlearn: 0.0237406\ttest: 0.1237968\tbest: 0.1237909 (9981)\ttotal: 12.4s\tremaining: 49.7s\n",
      "Stopped by overfitting detector  (100 iterations wait)\n",
      "\n",
      "bestTest = 0.1234940434\n",
      "bestIteration = 10927\n",
      "\n",
      "Shrink model to first 10928 iterations.\n",
      "0.12349402651125742\n",
      "=============== Fold No: 10 ===============\n",
      "Learning rate set to 0.003646\n",
      "0:\tlearn: 0.8231881\ttest: 0.7239316\tbest: 0.7239316 (0)\ttotal: 3.67ms\tremaining: 3m 3s\n",
      "2500:\tlearn: 0.0782499\ttest: 0.1031492\tbest: 0.1031492 (2500)\ttotal: 2.98s\tremaining: 56.7s\n",
      "5000:\tlearn: 0.0474488\ttest: 0.0761512\tbest: 0.0761512 (5000)\ttotal: 6.07s\tremaining: 54.6s\n",
      "7500:\tlearn: 0.0330848\ttest: 0.0711791\tbest: 0.0711714 (7498)\ttotal: 9.16s\tremaining: 51.9s\n",
      "Stopped by overfitting detector  (100 iterations wait)\n",
      "\n",
      "bestTest = 0.07018021483\n",
      "bestIteration = 9244\n",
      "\n",
      "Shrink model to first 9245 iterations.\n",
      "0.07018020086997527\n",
      "1.3399470142699461\n"
     ]
    }
   ],
   "source": [
    "n_folds = 10\n",
    "subbed = []\n",
    "kf = KFold(n_splits=n_folds, shuffle=True, random_state=10)\n",
    "\n",
    "\n",
    "for fold, (train_idx, test_idx) in enumerate(kf.split(X_train, y_train)):\n",
    "    print('=============== Fold No:',fold+1,'===============')\n",
    "    X_tr, X_tst = X_train.iloc[train_idx], X_train.iloc[test_idx]\n",
    "    y_tr, y_tst = y_train.iloc[train_idx], y_train.iloc[test_idx]\n",
    "    \n",
    "    model = CatBoostRegressor(eval_metric='RMSE',\n",
    "                              n_estimators=50000)\n",
    "    model.fit(X_tr, y_tr,eval_set=[(X_tst, y_tst)], early_stopping_rounds=100, verbose=2500)\n",
    "    print(mean_squared_error(y_tst, model.predict(X_tst), squared=False))\n",
    "    subbed.append(mean_squared_error(np.expm1(y_tst), np.expm1(model.predict(X_tst)), squared=False))\n",
    "    pred = model.predict(X_test)\n",
    "print(np.mean(subbed))"
   ]
  },
  {
   "cell_type": "code",
   "execution_count": null,
   "id": "765e0b0b",
   "metadata": {},
   "outputs": [],
   "source": []
  },
  {
   "cell_type": "code",
   "execution_count": null,
   "id": "e0b6262d",
   "metadata": {},
   "outputs": [],
   "source": []
  },
  {
   "cell_type": "code",
   "execution_count": 25,
   "id": "1e118216",
   "metadata": {},
   "outputs": [
    {
     "data": {
      "text/plain": [
       "2.7758505763133257"
      ]
     },
     "execution_count": 25,
     "metadata": {},
     "output_type": "execute_result"
    }
   ],
   "source": [
    "mean_squared_error(np.expm1(y_test), np.expm1(pred))"
   ]
  },
  {
   "cell_type": "code",
   "execution_count": 26,
   "id": "08c2e147",
   "metadata": {},
   "outputs": [
    {
     "data": {
      "text/plain": [
       "0.900085989749347"
      ]
     },
     "execution_count": 26,
     "metadata": {},
     "output_type": "execute_result"
    }
   ],
   "source": [
    "r2_score(np.expm1(y_test), np.expm1(pred))"
   ]
  },
  {
   "cell_type": "code",
   "execution_count": 27,
   "id": "d0a4fa8e",
   "metadata": {},
   "outputs": [],
   "source": [
    "file= open('regressor.pkl', 'wb')\n",
    "pickle.dump(model, file)"
   ]
  },
  {
   "cell_type": "code",
   "execution_count": null,
   "id": "860da867",
   "metadata": {},
   "outputs": [],
   "source": []
  }
 ],
 "metadata": {
  "kernelspec": {
   "display_name": "Python 3 (ipykernel)",
   "language": "python",
   "name": "python3"
  },
  "language_info": {
   "codemirror_mode": {
    "name": "ipython",
    "version": 3
   },
   "file_extension": ".py",
   "mimetype": "text/x-python",
   "name": "python",
   "nbconvert_exporter": "python",
   "pygments_lexer": "ipython3",
   "version": "3.9.7"
  }
 },
 "nbformat": 4,
 "nbformat_minor": 5
}
